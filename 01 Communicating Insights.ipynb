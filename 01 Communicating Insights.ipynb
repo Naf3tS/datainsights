{
 "cells": [
  {
   "cell_type": "code",
   "execution_count": 2,
   "metadata": {},
   "outputs": [
    {
     "name": "stdout",
     "output_type": "stream",
     "text": [
      "Python 3.8.5\n"
     ]
    }
   ],
   "source": [
    "!python --version"
   ]
  },
  {
   "cell_type": "code",
   "execution_count": 4,
   "metadata": {},
   "outputs": [],
   "source": [
    "import numpy as np\n",
    "\n",
    "import matplotlib\n",
    "import matplotlib.pyplot as plt\n",
    "\n",
    "import pandas as pd\n",
    "\n",
    "from scipy import stats"
   ]
  },
  {
   "cell_type": "code",
   "execution_count": 24,
   "metadata": {},
   "outputs": [
    {
     "data": {
      "text/html": [
       "<div>\n",
       "<style scoped>\n",
       "    .dataframe tbody tr th:only-of-type {\n",
       "        vertical-align: middle;\n",
       "    }\n",
       "\n",
       "    .dataframe tbody tr th {\n",
       "        vertical-align: top;\n",
       "    }\n",
       "\n",
       "    .dataframe thead th {\n",
       "        text-align: right;\n",
       "    }\n",
       "</style>\n",
       "<table border=\"1\" class=\"dataframe\">\n",
       "  <thead>\n",
       "    <tr style=\"text-align: right;\">\n",
       "      <th></th>\n",
       "      <th>Year</th>\n",
       "      <th>Month</th>\n",
       "      <th>CrudePalmOil</th>\n",
       "      <th>SoyabeanOil</th>\n",
       "      <th>GroundnutOil</th>\n",
       "      <th>SunflowerOil</th>\n",
       "      <th>RapeseedOil</th>\n",
       "      <th>CoconutOil</th>\n",
       "      <th>FishOil</th>\n",
       "      <th>Tallow</th>\n",
       "      <th>Lard</th>\n",
       "    </tr>\n",
       "  </thead>\n",
       "  <tbody>\n",
       "    <tr>\n",
       "      <th>0</th>\n",
       "      <td>2006</td>\n",
       "      <td>Jan</td>\n",
       "      <td>424.0</td>\n",
       "      <td>532.0</td>\n",
       "      <td>930.0</td>\n",
       "      <td>591.0</td>\n",
       "      <td>733.0</td>\n",
       "      <td>569.0</td>\n",
       "      <td>750.0</td>\n",
       "      <td>445.0</td>\n",
       "      <td>407.0</td>\n",
       "    </tr>\n",
       "    <tr>\n",
       "      <th>1</th>\n",
       "      <td>2006</td>\n",
       "      <td>Feb</td>\n",
       "      <td>445.0</td>\n",
       "      <td>535.0</td>\n",
       "      <td>921.0</td>\n",
       "      <td>595.0</td>\n",
       "      <td>723.0</td>\n",
       "      <td>591.0</td>\n",
       "      <td>761.0</td>\n",
       "      <td>430.0</td>\n",
       "      <td>405.0</td>\n",
       "    </tr>\n",
       "    <tr>\n",
       "      <th>2</th>\n",
       "      <td>2006</td>\n",
       "      <td>Mar</td>\n",
       "      <td>440.0</td>\n",
       "      <td>539.0</td>\n",
       "      <td>902.0</td>\n",
       "      <td>606.0</td>\n",
       "      <td>742.0</td>\n",
       "      <td>575.0</td>\n",
       "      <td>807.0</td>\n",
       "      <td>410.0</td>\n",
       "      <td>431.0</td>\n",
       "    </tr>\n",
       "    <tr>\n",
       "      <th>3</th>\n",
       "      <td>2006</td>\n",
       "      <td>Apr</td>\n",
       "      <td>439.0</td>\n",
       "      <td>540.0</td>\n",
       "      <td>899.0</td>\n",
       "      <td>659.0</td>\n",
       "      <td>796.0</td>\n",
       "      <td>578.0</td>\n",
       "      <td>840.0</td>\n",
       "      <td>394.0</td>\n",
       "      <td>437.0</td>\n",
       "    </tr>\n",
       "    <tr>\n",
       "      <th>4</th>\n",
       "      <td>2006</td>\n",
       "      <td>May</td>\n",
       "      <td>440.0</td>\n",
       "      <td>588.0</td>\n",
       "      <td>892.0</td>\n",
       "      <td>679.0</td>\n",
       "      <td>838.0</td>\n",
       "      <td>583.0</td>\n",
       "      <td>841.0</td>\n",
       "      <td>408.0</td>\n",
       "      <td>447.0</td>\n",
       "    </tr>\n",
       "  </tbody>\n",
       "</table>\n",
       "</div>"
      ],
      "text/plain": [
       "   Year Month  CrudePalmOil  SoyabeanOil  GroundnutOil  SunflowerOil  \\\n",
       "0  2006   Jan         424.0        532.0         930.0         591.0   \n",
       "1  2006   Feb         445.0        535.0         921.0         595.0   \n",
       "2  2006   Mar         440.0        539.0         902.0         606.0   \n",
       "3  2006   Apr         439.0        540.0         899.0         659.0   \n",
       "4  2006   May         440.0        588.0         892.0         679.0   \n",
       "\n",
       "   RapeseedOil  CoconutOil  FishOil  Tallow   Lard  \n",
       "0        733.0       569.0    750.0   445.0  407.0  \n",
       "1        723.0       591.0    761.0   430.0  405.0  \n",
       "2        742.0       575.0    807.0   410.0  431.0  \n",
       "3        796.0       578.0    840.0   394.0  437.0  \n",
       "4        838.0       583.0    841.0   408.0  447.0  "
      ]
     },
     "execution_count": 24,
     "metadata": {},
     "output_type": "execute_result"
    }
   ],
   "source": [
    "oil_data = pd.read_csv(\"data/MPOB_data1.csv\")\n",
    "oil_cols = [\"FishOil\",\"GroundnutOil\",\"CoconutOil\",\"RapeseedOil\",\"SunflowerOil\",\"SoyabeanOil\",\"Tallow\",\"CrudePalmOil\",\"Lard\"]\n",
    "oil_data.head()"
   ]
  },
  {
   "cell_type": "code",
   "execution_count": 20,
   "metadata": {},
   "outputs": [
    {
     "data": {
      "text/html": [
       "<div>\n",
       "<style scoped>\n",
       "    .dataframe tbody tr th:only-of-type {\n",
       "        vertical-align: middle;\n",
       "    }\n",
       "\n",
       "    .dataframe tbody tr th {\n",
       "        vertical-align: top;\n",
       "    }\n",
       "\n",
       "    .dataframe thead th {\n",
       "        text-align: right;\n",
       "    }\n",
       "</style>\n",
       "<table border=\"1\" class=\"dataframe\">\n",
       "  <thead>\n",
       "    <tr style=\"text-align: right;\">\n",
       "      <th></th>\n",
       "      <th>Year</th>\n",
       "      <th>CrudePalmOil</th>\n",
       "      <th>SoyabeanOil</th>\n",
       "      <th>GroundnutOil</th>\n",
       "      <th>SunflowerOil</th>\n",
       "      <th>RapeseedOil</th>\n",
       "      <th>CoconutOil</th>\n",
       "      <th>FishOil</th>\n",
       "      <th>Tallow</th>\n",
       "      <th>Lard</th>\n",
       "    </tr>\n",
       "  </thead>\n",
       "  <tbody>\n",
       "    <tr>\n",
       "      <th>count</th>\n",
       "      <td>156.000000</td>\n",
       "      <td>153.000000</td>\n",
       "      <td>153.000000</td>\n",
       "      <td>153.000000</td>\n",
       "      <td>153.000000</td>\n",
       "      <td>153.000000</td>\n",
       "      <td>153.000000</td>\n",
       "      <td>153.000000</td>\n",
       "      <td>153.000000</td>\n",
       "      <td>153.000000</td>\n",
       "    </tr>\n",
       "    <tr>\n",
       "      <th>mean</th>\n",
       "      <td>2012.000000</td>\n",
       "      <td>792.725490</td>\n",
       "      <td>947.856209</td>\n",
       "      <td>1414.601307</td>\n",
       "      <td>988.843137</td>\n",
       "      <td>992.202614</td>\n",
       "      <td>1149.137255</td>\n",
       "      <td>1482.954248</td>\n",
       "      <td>853.215686</td>\n",
       "      <td>792.594771</td>\n",
       "    </tr>\n",
       "    <tr>\n",
       "      <th>std</th>\n",
       "      <td>3.753708</td>\n",
       "      <td>205.275336</td>\n",
       "      <td>229.628287</td>\n",
       "      <td>515.906259</td>\n",
       "      <td>314.525292</td>\n",
       "      <td>227.338443</td>\n",
       "      <td>364.608443</td>\n",
       "      <td>456.779751</td>\n",
       "      <td>220.306095</td>\n",
       "      <td>209.217321</td>\n",
       "    </tr>\n",
       "    <tr>\n",
       "      <th>min</th>\n",
       "      <td>2006.000000</td>\n",
       "      <td>424.000000</td>\n",
       "      <td>532.000000</td>\n",
       "      <td>0.000000</td>\n",
       "      <td>0.000000</td>\n",
       "      <td>709.000000</td>\n",
       "      <td>569.000000</td>\n",
       "      <td>620.000000</td>\n",
       "      <td>394.000000</td>\n",
       "      <td>405.000000</td>\n",
       "    </tr>\n",
       "    <tr>\n",
       "      <th>25%</th>\n",
       "      <td>2009.000000</td>\n",
       "      <td>663.000000</td>\n",
       "      <td>790.000000</td>\n",
       "      <td>1214.000000</td>\n",
       "      <td>802.000000</td>\n",
       "      <td>817.000000</td>\n",
       "      <td>861.000000</td>\n",
       "      <td>1015.000000</td>\n",
       "      <td>737.000000</td>\n",
       "      <td>638.000000</td>\n",
       "    </tr>\n",
       "    <tr>\n",
       "      <th>50%</th>\n",
       "      <td>2012.000000</td>\n",
       "      <td>771.000000</td>\n",
       "      <td>883.000000</td>\n",
       "      <td>1356.000000</td>\n",
       "      <td>887.000000</td>\n",
       "      <td>896.000000</td>\n",
       "      <td>1131.000000</td>\n",
       "      <td>1580.000000</td>\n",
       "      <td>838.000000</td>\n",
       "      <td>762.000000</td>\n",
       "    </tr>\n",
       "    <tr>\n",
       "      <th>75%</th>\n",
       "      <td>2015.000000</td>\n",
       "      <td>906.000000</td>\n",
       "      <td>1140.000000</td>\n",
       "      <td>1673.000000</td>\n",
       "      <td>1221.000000</td>\n",
       "      <td>1190.000000</td>\n",
       "      <td>1439.000000</td>\n",
       "      <td>1800.000000</td>\n",
       "      <td>1025.000000</td>\n",
       "      <td>930.000000</td>\n",
       "    </tr>\n",
       "    <tr>\n",
       "      <th>max</th>\n",
       "      <td>2018.000000</td>\n",
       "      <td>1292.000000</td>\n",
       "      <td>1537.000000</td>\n",
       "      <td>2555.000000</td>\n",
       "      <td>2045.000000</td>\n",
       "      <td>1577.000000</td>\n",
       "      <td>2256.000000</td>\n",
       "      <td>2400.000000</td>\n",
       "      <td>1363.000000</td>\n",
       "      <td>1392.000000</td>\n",
       "    </tr>\n",
       "  </tbody>\n",
       "</table>\n",
       "</div>"
      ],
      "text/plain": [
       "              Year  CrudePalmOil  SoyabeanOil  GroundnutOil  SunflowerOil  \\\n",
       "count   156.000000    153.000000   153.000000    153.000000    153.000000   \n",
       "mean   2012.000000    792.725490   947.856209   1414.601307    988.843137   \n",
       "std       3.753708    205.275336   229.628287    515.906259    314.525292   \n",
       "min    2006.000000    424.000000   532.000000      0.000000      0.000000   \n",
       "25%    2009.000000    663.000000   790.000000   1214.000000    802.000000   \n",
       "50%    2012.000000    771.000000   883.000000   1356.000000    887.000000   \n",
       "75%    2015.000000    906.000000  1140.000000   1673.000000   1221.000000   \n",
       "max    2018.000000   1292.000000  1537.000000   2555.000000   2045.000000   \n",
       "\n",
       "       RapeseedOil   CoconutOil      FishOil       Tallow         Lard  \n",
       "count   153.000000   153.000000   153.000000   153.000000   153.000000  \n",
       "mean    992.202614  1149.137255  1482.954248   853.215686   792.594771  \n",
       "std     227.338443   364.608443   456.779751   220.306095   209.217321  \n",
       "min     709.000000   569.000000   620.000000   394.000000   405.000000  \n",
       "25%     817.000000   861.000000  1015.000000   737.000000   638.000000  \n",
       "50%     896.000000  1131.000000  1580.000000   838.000000   762.000000  \n",
       "75%    1190.000000  1439.000000  1800.000000  1025.000000   930.000000  \n",
       "max    1577.000000  2256.000000  2400.000000  1363.000000  1392.000000  "
      ]
     },
     "execution_count": 20,
     "metadata": {},
     "output_type": "execute_result"
    }
   ],
   "source": [
    "oil_data.describe()"
   ]
  },
  {
   "cell_type": "code",
   "execution_count": 21,
   "metadata": {},
   "outputs": [
    {
     "data": {
      "text/plain": [
       "FishOil         1482.954248\n",
       "GroundnutOil    1414.601307\n",
       "CoconutOil      1149.137255\n",
       "RapeseedOil      992.202614\n",
       "SunflowerOil     988.843137\n",
       "SoyabeanOil      947.856209\n",
       "Tallow           853.215686\n",
       "CrudePalmOil     792.725490\n",
       "Lard             792.594771\n",
       "dtype: float64"
      ]
     },
     "execution_count": 21,
     "metadata": {},
     "output_type": "execute_result"
    }
   ],
   "source": [
    "oil_data.mean().sort_values(ascending=False)[1:]"
   ]
  },
  {
   "cell_type": "code",
   "execution_count": 26,
   "metadata": {},
   "outputs": [
    {
     "data": {
      "text/plain": [
       "Text(0, 0.5, 'Prices')"
      ]
     },
     "execution_count": 26,
     "metadata": {},
     "output_type": "execute_result"
    },
    {
     "data": {
      "image/png": "[encoded data removed]",
      "text/plain": [
       "<Figure size 864x576 with 1 Axes>"
      ]
     },
     "metadata": {
      "needs_background": "light"
     },
     "output_type": "display_data"
    }
   ],
   "source": [
    "fig, ax = plt.subplots(figsize=(12,8))\n",
    "plt.xticks(rotation=70)\n",
    "for oil_col in oil_cols:\n",
    "    plt.bar(oil_col,oil_data[oil_col],width=0.5)\n",
    "plt.title(\"Oil Prices - 2006 to 2018\")\n",
    "plt.xlabel(\"Oils\")\n",
    "plt.ylabel(\"Prices\")"
   ]
  },
  {
   "cell_type": "code",
   "execution_count": 41,
   "metadata": {},
   "outputs": [
    {
     "name": "stdout",
     "output_type": "stream",
     "text": [
      "max_val=2555.0\n",
      "min_val=0.0\n",
      "mean_val=1414.6013071895425\n",
      "median_val=1414.6013071895425\n"
     ]
    }
   ],
   "source": [
    "max_val = oil_data[\"GroundnutOil\"].max()\n",
    "print(f\"{max_val=}\")\n",
    "min_val = oil_data[\"GroundnutOil\"].min()\n",
    "print(f\"{min_val=}\")\n",
    "mean_val = oil_data[\"GroundnutOil\"].mean()\n",
    "print(f\"{mean_val=}\")\n",
    "median_val = oil_data[\"GroundnutOil\"].mean()\n",
    "print(f\"{median_val=}\")"
   ]
  },
  {
   "cell_type": "code",
   "execution_count": 31,
   "metadata": {},
   "outputs": [
    {
     "data": {
      "text/html": [
       "<div>\n",
       "<style scoped>\n",
       "    .dataframe tbody tr th:only-of-type {\n",
       "        vertical-align: middle;\n",
       "    }\n",
       "\n",
       "    .dataframe tbody tr th {\n",
       "        vertical-align: top;\n",
       "    }\n",
       "\n",
       "    .dataframe thead th {\n",
       "        text-align: right;\n",
       "    }\n",
       "</style>\n",
       "<table border=\"1\" class=\"dataframe\">\n",
       "  <thead>\n",
       "    <tr style=\"text-align: right;\">\n",
       "      <th></th>\n",
       "      <th>Year</th>\n",
       "      <th>Month</th>\n",
       "      <th>CrudePalmOil</th>\n",
       "      <th>SoyabeanOil</th>\n",
       "      <th>GroundnutOil</th>\n",
       "      <th>SunflowerOil</th>\n",
       "      <th>RapeseedOil</th>\n",
       "      <th>CoconutOil</th>\n",
       "      <th>FishOil</th>\n",
       "      <th>Tallow</th>\n",
       "      <th>Lard</th>\n",
       "    </tr>\n",
       "  </thead>\n",
       "  <tbody>\n",
       "    <tr>\n",
       "      <th>76</th>\n",
       "      <td>2012</td>\n",
       "      <td>May</td>\n",
       "      <td>1085.0</td>\n",
       "      <td>1218.0</td>\n",
       "      <td>2555.0</td>\n",
       "      <td>1275.0</td>\n",
       "      <td>1235.0</td>\n",
       "      <td>1155.0</td>\n",
       "      <td>1758.0</td>\n",
       "      <td>1223.0</td>\n",
       "      <td>1045.0</td>\n",
       "    </tr>\n",
       "  </tbody>\n",
       "</table>\n",
       "</div>"
      ],
      "text/plain": [
       "    Year Month  CrudePalmOil  SoyabeanOil  GroundnutOil  SunflowerOil  \\\n",
       "76  2012   May        1085.0       1218.0        2555.0        1275.0   \n",
       "\n",
       "    RapeseedOil  CoconutOil  FishOil  Tallow    Lard  \n",
       "76       1235.0      1155.0   1758.0  1223.0  1045.0  "
      ]
     },
     "execution_count": 31,
     "metadata": {},
     "output_type": "execute_result"
    }
   ],
   "source": [
    "oil_data[:][oil_data[\"GroundnutOil\"] == max_val]"
   ]
  },
  {
   "cell_type": "code",
   "execution_count": 45,
   "metadata": {},
   "outputs": [
    {
     "data": {
      "text/plain": [
       "Text(0, 0.5, 'Prices')"
      ]
     },
     "execution_count": 45,
     "metadata": {},
     "output_type": "execute_result"
    },
    {
     "data": {
      "image/png": "[encoded data removed]",
      "text/plain": [
       "<Figure size 864x576 with 1 Axes>"
      ]
     },
     "metadata": {
      "needs_background": "light"
     },
     "output_type": "display_data"
    }
   ],
   "source": [
    "fig, ax = plt.subplots(figsize=(12,8))\n",
    "plt.xticks(rotation=90)\n",
    "plt.scatter(oil_data[\"Year\"],oil_data[\"GroundnutOil\"],color=\"blue\")\n",
    "\n",
    "plt.axhline(max_val, label=\"Max\", color=\"red\")\n",
    "plt.axhline(min_val, label=\"Min\", color=\"red\")\n",
    "plt.axhline(mean_val, label=\"Mean\", color=\"green\")\n",
    "plt.axhline(median_val, label=\"Median\", color=\"limegreen\")\n",
    "\n",
    "plt.legend(loc=\"upper right\", bbox_to_anchor=(1.2,1))\n",
    "plt.title(\"Groundnut Oil Prices - 2006 to 2018\")\n",
    "plt.xlabel(\"Year\")\n",
    "plt.ylabel(\"Prices\")"
   ]
  }
 ],
 "metadata": {
  "kernelspec": {
   "display_name": "Python 3",
   "language": "python",
   "name": "python3"
  },
  "language_info": {
   "codemirror_mode": {
    "name": "ipython",
    "version": 3
   },
   "file_extension": ".py",
   "mimetype": "text/x-python",
   "name": "python",
   "nbconvert_exporter": "python",
   "pygments_lexer": "ipython3",
   "version": "3.8.5"
  }
 },
 "nbformat": 4,
 "nbformat_minor": 4
}
